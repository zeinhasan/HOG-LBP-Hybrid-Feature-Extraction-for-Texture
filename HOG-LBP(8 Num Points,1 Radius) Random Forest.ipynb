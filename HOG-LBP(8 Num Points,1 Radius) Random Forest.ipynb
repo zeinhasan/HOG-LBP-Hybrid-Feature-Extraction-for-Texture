{
 "cells": [
  {
   "cell_type": "markdown",
   "metadata": {},
   "source": [
    "# Library"
   ]
  },
  {
   "cell_type": "code",
   "execution_count": 1,
   "metadata": {},
   "outputs": [],
   "source": [
    "import cv2\n",
    "import os\n",
    "import numpy as np\n",
    "from sklearn.ensemble import RandomForestClassifier\n",
    "from skimage import exposure, feature\n",
    "from skimage.feature import hog\n",
    "from imutils import paths\n",
    "import matplotlib.pyplot as plt\n",
    "import argparse\n",
    "from sklearn.metrics import confusion_matrix, classification_report, f1_score, accuracy_score, log_loss\n",
    "import seaborn as sns\n",
    "import pandas as pd\n",
    "import random\n",
    "import shutil\n",
    "import time"
   ]
  },
  {
   "cell_type": "markdown",
   "metadata": {},
   "source": [
    "# Local Binary Pattern Setup"
   ]
  },
  {
   "cell_type": "code",
   "execution_count": 2,
   "metadata": {},
   "outputs": [],
   "source": [
    "# Local Binnary Patterns (LBP) class\n",
    "class LocalBinaryPatterns:\n",
    "    def __init__(self, numPoints, radius):\n",
    "        self.numPoints = numPoints\n",
    "        self.radius = radius\n",
    "\n",
    "    def describe(self, image, eps=1e-7):\n",
    "        lbp = feature.local_binary_pattern(image, self.numPoints,\n",
    "                                           self.radius, method=\"uniform\")\n",
    "        (hist, _) = np.histogram(lbp.ravel(),\n",
    "                                  bins=np.arange(0, self.numPoints + 3),\n",
    "                                  range=(0, self.numPoints + 2))\n",
    "\n",
    "        # Normalize the histogram\n",
    "        hist = hist.astype(\"float\")\n",
    "        hist /= (hist.sum() + eps)\n",
    "\n",
    "        return hist"
   ]
  },
  {
   "cell_type": "code",
   "execution_count": 3,
   "metadata": {},
   "outputs": [],
   "source": [
    "# Initialize the local binary patterns descriptor along with\n",
    "desc = LocalBinaryPatterns(8, 1)"
   ]
  },
  {
   "cell_type": "markdown",
   "metadata": {},
   "source": [
    "# Histogram Oriented Gradient Setup"
   ]
  },
  {
   "cell_type": "code",
   "execution_count": 4,
   "metadata": {},
   "outputs": [],
   "source": [
    "# HOG parameters\n",
    "hog_params = {\n",
    "    'orientations': 9, # number of bins\n",
    "    'pixels_per_cell': (8, 8), # pixel size\n",
    "    'cells_per_block': (2, 2), # number of cells\n",
    "    'block_norm': 'L2-Hys' # block norm\n",
    "}"
   ]
  },
  {
   "cell_type": "markdown",
   "metadata": {},
   "source": [
    "# Dataset"
   ]
  },
  {
   "cell_type": "code",
   "execution_count": 5,
   "metadata": {},
   "outputs": [],
   "source": [
    "# Specify the paths to the training and testing images\n",
    "training_path = \"Dataset/Train\"\n",
    "testing_path = \"Dataset/Test\""
   ]
  },
  {
   "cell_type": "markdown",
   "metadata": {},
   "source": [
    "## Training Data Feature Extraction"
   ]
  },
  {
   "cell_type": "code",
   "execution_count": 6,
   "metadata": {},
   "outputs": [],
   "source": [
    "# Initialize the data and label lists\n",
    "data = []\n",
    "labels = []"
   ]
  },
  {
   "cell_type": "code",
   "execution_count": 7,
   "metadata": {},
   "outputs": [],
   "source": [
    "# Add time measurement\n",
    "start = time.time()\n",
    "\n",
    "# Loop over the training images\n",
    "training_path = \"Dataset/Train\"\n",
    "for imagePath in paths.list_images(training_path):\n",
    "    # Load the image, convert it to grayscale, and describe it\n",
    "    image = cv2.imread(imagePath)\n",
    "    gray = cv2.cvtColor(image, cv2.COLOR_BGR2GRAY)\n",
    "    \n",
    "    # Extract LBP features\n",
    "    lbp_hist = desc.describe(gray)\n",
    "    \n",
    "    # Extract HOG features\n",
    "    hog_features = hog(gray, **hog_params)\n",
    "    \n",
    "    # Combine HOG and LBP features\n",
    "    features = np.hstack((hog_features, lbp_hist))\n",
    "    \n",
    "    # Extract the label from the image path, then update the labels and data\n",
    "    labels.append(imagePath.split(os.path.sep)[-2])\n",
    "    data.append(features)\n",
    "\n",
    "# Stop time measurement\n",
    "end = time.time()\n",
    "\n",
    "# Calculate the elapsed time\n",
    "elapsed_time = end - start\n",
    "print(f\"Time taken to process the training images: {elapsed_time:.2f} seconds\")"
   ]
  },
  {
   "cell_type": "code",
   "execution_count": null,
   "metadata": {},
   "outputs": [],
   "source": [
    "# Convert data and labels to NumPy arrays\n",
    "data = np.array(data)\n",
    "labels = np.array(labels)"
   ]
  },
  {
   "cell_type": "code",
   "execution_count": null,
   "metadata": {},
   "outputs": [
    {
     "name": "stdout",
     "output_type": "stream",
     "text": [
      "Data shape: (32000, 26254)\n",
      "Labels shape: (32000,)\n",
      "Number of images with label Negative: 16000\n",
      "Number of images with label Positive: 16000\n"
     ]
    }
   ],
   "source": [
    "# Check the length of the data and labels\n",
    "print(f\"Data shape: {data.shape}\")\n",
    "print(f\"Labels shape: {labels.shape}\")\n",
    "\n",
    "# check the number of unique labels\n",
    "unique_labels = np.unique(labels)\n",
    "\n",
    "# check the lengt of each unique label\n",
    "for label in unique_labels:\n",
    "    print(f\"Number of images with label {label}: {len(data[labels == label])}\")"
   ]
  },
  {
   "cell_type": "markdown",
   "metadata": {},
   "source": [
    "# Modelling"
   ]
  },
  {
   "cell_type": "markdown",
   "metadata": {},
   "source": [
    "## Training Model Random Forest Gini Criterion"
   ]
  },
  {
   "cell_type": "code",
   "execution_count": null,
   "metadata": {},
   "outputs": [],
   "source": [
    "# Add time measurement\n",
    "start = time.time()\n",
    "# Train a Random Forest Gini Criterion\n",
    "model_RFG = RandomForestClassifier(criterion='gini',random_state=42)\n",
    "model_RFG.fit(data,labels)\n",
    "# Stop time measurement\n",
    "end = time.time()\n",
    "\n",
    "# Calculate the elapsed time\n",
    "elapsed_time = end - start\n",
    "print(f\"Time taken to train the Random Forest Gini Criterion: {elapsed_time:.2f} seconds\")"
   ]
  },
  {
   "cell_type": "markdown",
   "metadata": {},
   "source": [
    "## Training Model Random Forest Entropy Criterion"
   ]
  },
  {
   "cell_type": "code",
   "execution_count": null,
   "metadata": {},
   "outputs": [],
   "source": [
    "# Add time measurement\n",
    "start = time.time()\n",
    "# Train a Random Forest Information Gain Criterion\n",
    "model_RFE = RandomForestClassifier(criterion='entropy',random_state=42)\n",
    "model_RFE.fit(data,labels)\n",
    "# Stop time measurement\n",
    "end = time.time()\n",
    "\n",
    "# Calculate the elapsed time\n",
    "elapsed_time = end - start\n",
    "print(f\"Time taken to train the Random Forest Information Gain Criterion: {elapsed_time:.2f} seconds\")"
   ]
  },
  {
   "cell_type": "markdown",
   "metadata": {},
   "source": [
    "## Training Model Random Forest Log Loss Criterion"
   ]
  },
  {
   "cell_type": "code",
   "execution_count": null,
   "metadata": {},
   "outputs": [],
   "source": [
    "# Add time measurement\n",
    "start = time.time()\n",
    "# Train a Random Forest Information Gain Criterion\n",
    "model_RFL = RandomForestClassifier(criterion='log_loss',random_state=42)\n",
    "model_RFL.fit(data,labels)\n",
    "# Stop time measurement\n",
    "end = time.time()\n",
    "\n",
    "# Calculate the elapsed time\n",
    "elapsed_time = end - start\n",
    "print(f\"Time taken to train the Random Forest Log Loss Criterion: {elapsed_time:.2f} seconds\")\n"
   ]
  },
  {
   "cell_type": "markdown",
   "metadata": {},
   "source": [
    "# Confussion Matrix & Classification Report Random Forest Gini"
   ]
  },
  {
   "cell_type": "code",
   "execution_count": null,
   "metadata": {},
   "outputs": [],
   "source": [
    "# Initialize empty lists for true labels and predicted labels\n",
    "true_labels = []\n",
    "predicted_labels = []"
   ]
  },
  {
   "cell_type": "code",
   "execution_count": null,
   "metadata": {},
   "outputs": [],
   "source": [
    "# Add time measurement\n",
    "start = time.time()\n",
    "# Loop over the testing images\n",
    "for imagePath in paths.list_images(testing_path):\n",
    "    # Load the image, convert it to grayscale, describe it\n",
    "    image = cv2.imread(imagePath)\n",
    "    gray = cv2.cvtColor(image, cv2.COLOR_BGR2GRAY)\n",
    "    \n",
    "    # Extract LBP features\n",
    "    lbp_hist = desc.describe(gray)\n",
    "    \n",
    "    # Extract HOG features\n",
    "    hog_features = hog(gray, **hog_params)\n",
    "    \n",
    "    # Combine HOG and LBP features\n",
    "    features = np.hstack((hog_features, lbp_hist))\n",
    "    \n",
    "    # Predict the label using the trained SVM classifier\n",
    "    prediction = model_RFG.predict(features.reshape(1, -1))\n",
    "    \n",
    "    # Extract the true label from the image path\n",
    "    true_label = imagePath.split(os.path.sep)[-2]\n",
    "    \n",
    "    # Update the lists\n",
    "    true_labels.append(true_label)\n",
    "    predicted_labels.append(prediction[0])\n",
    "\n",
    "# Create the confusion matrix\n",
    "conf_matrix = confusion_matrix(true_labels, predicted_labels)\n",
    "\n",
    "# Display the confusion matrix using a heatmap\n",
    "plt.figure(figsize=(8, 6))\n",
    "sns.heatmap(conf_matrix, annot=True, fmt='d', cmap='Blues', xticklabels=np.unique(true_labels),\n",
    "            yticklabels=np.unique(true_labels))\n",
    "plt.title('Confusion Matrix - SVM Classifier')\n",
    "plt.xlabel('Predicted Label')\n",
    "plt.ylabel('True Label')\n",
    "plt.show()\n",
    "\n",
    "# Stop time measurement\n",
    "end = time.time()\n",
    "\n",
    "# Calculate the elapsed time\n",
    "elapsed_time = end - start\n",
    "print(f\"Time taken to predict the testing images: {elapsed_time:.2f} seconds\")"
   ]
  },
  {
   "cell_type": "code",
   "execution_count": null,
   "metadata": {},
   "outputs": [],
   "source": [
    "# Get the classification report\n",
    "class_report = classification_report(true_labels, predicted_labels, digits=4)\n",
    "print(\"Classification Report:\\n\", class_report)\n",
    "\n",
    "# Get the accuracy score\n",
    "acc_score_RFG_n8r1 = accuracy_score(true_labels, predicted_labels)\n",
    "print(\"Accuracy Score:\", acc_score_RFG_n8r1)\n",
    "\n",
    "# Get the F1 score\n",
    "f1_score_RFG_n8r1 = f1_score(true_labels, predicted_labels, average='weighted')\n",
    "print(\"F1 Score:\", f1_score_RFG_n8r1)"
   ]
  },
  {
   "cell_type": "markdown",
   "metadata": {},
   "source": [
    "# Confussion Matrix & Classification Report Random Forest Entropy"
   ]
  },
  {
   "cell_type": "code",
   "execution_count": null,
   "metadata": {},
   "outputs": [],
   "source": [
    "# Initialize empty lists for true labels and predicted labels\n",
    "true_labels = []\n",
    "predicted_labels = []\n",
    "\n",
    "# Add time measurement\n",
    "start = time.time()\n",
    "# Loop over the testing images\n",
    "for imagePath in paths.list_images(testing_path):\n",
    "    # Load the image, convert it to grayscale, describe it,\n",
    "    # and classify it\n",
    "    image = cv2.imread(imagePath)\n",
    "    gray = cv2.cvtColor(image, cv2.COLOR_BGR2GRAY)\n",
    "    hist = desc.describe(gray)\n",
    "    prediction = model_RFE.predict(hist.reshape(1, -1))\n",
    "\n",
    "    # Extract the true label from the image path\n",
    "    true_label = imagePath.split(os.path.sep)[-2]\n",
    "\n",
    "    # Update the lists\n",
    "    true_labels.append(true_label)\n",
    "    predicted_labels.append(prediction[0])\n",
    "\n",
    "# Create the confusion matrix\n",
    "conf_matrix = confusion_matrix(true_labels, predicted_labels)\n",
    "\n",
    "# Display the confusion matrix using a heatmap\n",
    "plt.figure(figsize=(8, 6))\n",
    "sns.heatmap(conf_matrix, annot=True, fmt='d', cmap='Blues', xticklabels=np.unique(true_labels),\n",
    "            yticklabels=np.unique(true_labels))\n",
    "plt.title('Confusion Matrix Random Forest Entropy Criterion')\n",
    "plt.xlabel('Predicted Label')\n",
    "plt.ylabel('True Label')\n",
    "plt.show()\n",
    "# Stop time measurement\n",
    "end = time.time()\n",
    "\n",
    "# Calculate the elapsed time\n",
    "elapsed_time = end - start\n",
    "print(f\"Time taken to predict the testing images: {elapsed_time:.2f} seconds\")"
   ]
  },
  {
   "cell_type": "code",
   "execution_count": null,
   "metadata": {},
   "outputs": [],
   "source": [
    "# Get the classification report\n",
    "class_report = classification_report(true_labels, predicted_labels, digits=4)\n",
    "print(\"Classification Report:\\n\", class_report)\n",
    "\n",
    "# Get the accuracy score\n",
    "acc_score_RFE_n8r1 = accuracy_score(true_labels, predicted_labels)\n",
    "print(\"Accuracy Score:\", acc_score_RFE_n8r1)\n",
    "\n",
    "# Get the F1 score\n",
    "f1_score_RFE_n8r1 = f1_score(true_labels, predicted_labels, average='weighted')\n",
    "print(\"F1 Score:\", f1_score_RFE_n8r1)"
   ]
  },
  {
   "cell_type": "markdown",
   "metadata": {},
   "source": [
    "# Confussion Matrix & Classification Report Random Forest Log Loss"
   ]
  },
  {
   "cell_type": "code",
   "execution_count": null,
   "metadata": {},
   "outputs": [],
   "source": [
    "# Initialize empty lists for true labels and predicted labels\n",
    "true_labels = []\n",
    "predicted_labels = []\n",
    "\n",
    "# Add time measurement\n",
    "start = time.time()\n",
    "# Loop over the testing images\n",
    "for imagePath in paths.list_images(testing_path):\n",
    "    # Load the image, convert it to grayscale, describe it,\n",
    "    # and classify it\n",
    "    image = cv2.imread(imagePath)\n",
    "    gray = cv2.cvtColor(image, cv2.COLOR_BGR2GRAY)\n",
    "    hist = desc.describe(gray)\n",
    "    prediction = model_RFL.predict(hist.reshape(1, -1))\n",
    "\n",
    "    # Extract the true label from the image path\n",
    "    true_label = imagePath.split(os.path.sep)[-2]\n",
    "\n",
    "    # Update the lists\n",
    "    true_labels.append(true_label)\n",
    "    predicted_labels.append(prediction[0])\n",
    "\n",
    "# Create the confusion matrix\n",
    "conf_matrix = confusion_matrix(true_labels, predicted_labels)\n",
    "\n",
    "# Display the confusion matrix using a heatmap\n",
    "plt.figure(figsize=(8, 6))\n",
    "sns.heatmap(conf_matrix, annot=True, fmt='d', cmap='Blues', xticklabels=np.unique(true_labels),\n",
    "            yticklabels=np.unique(true_labels))\n",
    "plt.title('Confusion Matrix Random Forest Log Loss Criterion')\n",
    "plt.xlabel('Predicted Label')\n",
    "plt.ylabel('True Label')\n",
    "plt.show()\n",
    "# Stop time measurement\n",
    "end = time.time()\n",
    "\n",
    "# Calculate the elapsed time\n",
    "elapsed_time = end - start\n",
    "print(f\"Time taken to predict the testing images: {elapsed_time:.2f} seconds\")"
   ]
  },
  {
   "cell_type": "code",
   "execution_count": null,
   "metadata": {},
   "outputs": [],
   "source": [
    "# Get the classification report\n",
    "class_report = classification_report(true_labels, predicted_labels, digits=4)\n",
    "print(\"Classification Report:\\n\", class_report)\n",
    "\n",
    "# Get the accuracy score\n",
    "acc_score_RFL_n8r1 = accuracy_score(true_labels, predicted_labels)\n",
    "print(\"Accuracy Score:\", acc_score_RFL_n8r1)\n",
    "\n",
    "# Get the F1 score\n",
    "f1_score_RFL_n8r1 = f1_score(true_labels, predicted_labels, average='weighted')\n",
    "print(\"F1 Score:\", f1_score_RFL_n8r1)"
   ]
  },
  {
   "cell_type": "markdown",
   "metadata": {},
   "source": [
    "# Wrapping Up"
   ]
  },
  {
   "cell_type": "code",
   "execution_count": null,
   "metadata": {},
   "outputs": [],
   "source": [
    "# wrap the models in a list\n",
    "# make dict of models to loop through\n",
    "model = {\n",
    "    \"Random Forest Gini NumPoint = 8 Radius = 1\": model_RFG,\n",
    "    \"Random Forest Entropy NumPoint = 8 Radius = 1\": model_RFE,\n",
    "    \"Random Forest Log Loss NumPoint = 8 Radius = 1\": model_RFL\n",
    "}\n",
    "\n",
    "# Make dict of accuracy scores to loop through\n",
    "acc_score = {\n",
    "    \"Random Forest Gini NumPoint = 8 Radius = 1\": acc_score_RFG_n8r1,\n",
    "    \"Random Forest Entropy NumPoint = 8 Radius = 1\": acc_score_RFE_n8r1,\n",
    "    \"Random Forest Log Loss NumPoint = 8 Radius = 1\": acc_score_RFL_n8r1\n",
    "}\n",
    "\n",
    "# Make dict of F1 scores to loop through\n",
    "f1_score = {\n",
    "    \"Random Forest Gini NumPoint = 8 Radius = 1\": f1_score_RFG_n8r1,\n",
    "    \"Random Forest Entropy NumPoint = 8 Radius = 1\": f1_score_RFE_n8r1,\n",
    "    \"Random Forest Log Loss NumPoint = 8 Radius = 1\": f1_score_RFL_n8r1\n",
    "}\n",
    "\n",
    "# Make DataFrame of all the scores\n",
    "df = pd.DataFrame(list(acc_score.items()), columns=['Model', 'Accuracy Score'])\n",
    "df['F1 Score'] = f1_score.values()\n",
    "\n",
    "# Sort the values by f1 score\n",
    "df.sort_values(by=['F1 Score'], inplace=True, ascending=False)\n",
    "\n",
    "# Display the DataFrame\n",
    "print(df)"
   ]
  },
  {
   "cell_type": "markdown",
   "metadata": {},
   "source": [
    "# Save Model"
   ]
  },
  {
   "cell_type": "code",
   "execution_count": null,
   "metadata": {},
   "outputs": [],
   "source": [
    "# Save all the model\n",
    "import pickle\n",
    "# model as a pickle file\n",
    "model_RFG_pkl_file = \"model\\RFG_n8r1.pkl\"\n",
    "model_RFE_pkl_file = \"model\\RFE_n8r1.pkl\"\n",
    "model_RFL_pkl_file = \"model\\RFL_n8r1.pkl\"\n",
    "\n",
    "with open(model_RFG_pkl_file, 'wb') as file:  \n",
    "    pickle.dump(model_RFG, file)\n",
    "\n",
    "with open(model_RFE_pkl_file, 'wb') as file:\n",
    "    pickle.dump(model_RFE, file)\n",
    "\n",
    "with open(model_RFL_pkl_file, 'wb') as file:\n",
    "    pickle.dump(model_RFL, file)"
   ]
  }
 ],
 "metadata": {
  "kernelspec": {
   "display_name": "LocalBinaryPattern",
   "language": "python",
   "name": "python3"
  },
  "language_info": {
   "codemirror_mode": {
    "name": "ipython",
    "version": 3
   },
   "file_extension": ".py",
   "mimetype": "text/x-python",
   "name": "python",
   "nbconvert_exporter": "python",
   "pygments_lexer": "ipython3",
   "version": "3.10.13"
  }
 },
 "nbformat": 4,
 "nbformat_minor": 2
}
